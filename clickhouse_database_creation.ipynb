{
 "cells": [
  {
   "cell_type": "markdown",
   "metadata": {},
   "source": [
    "## Создание базы данных в ClickHouse и загрузка данных"
   ]
  },
  {
   "cell_type": "code",
   "execution_count": 30,
   "metadata": {},
   "outputs": [],
   "source": [
    "import numpy as np\n",
    "import pandas as pd\n",
    "import math\n",
    "from clickhouse_driver.client import Client"
   ]
  },
  {
   "cell_type": "code",
   "execution_count": 23,
   "metadata": {},
   "outputs": [],
   "source": [
    "# Подключение к серверу\n",
    "# У нас на Амазоне развернут кластер из двух серверов\n",
    "client = Client('3.23.248.232', user='default', password='qwerty') # наш первый сервер\n",
    "#client = Client('3.23.221.144', user='default', password='qwerty') # наш второй сервер"
   ]
  },
  {
   "cell_type": "markdown",
   "metadata": {},
   "source": [
    "## Создание базы данных и структуры таблиц\n",
    "\n",
    "Наша база данных имеет название `realty_db` содержит три основные таблицы:\n",
    "* realty_db.infr - с информацией об объектах инфраструктуры\n",
    "* realty_db.offers - с данными о предложениях по продаже квартир в новостройках\n",
    "* realty_db.complexes_info - с информацией о новых жилых комплексах"
   ]
  },
  {
   "cell_type": "code",
   "execution_count": 16,
   "metadata": {},
   "outputs": [
    {
     "data": {
      "text/plain": [
       "[]"
      ]
     },
     "execution_count": 16,
     "metadata": {},
     "output_type": "execute_result"
    }
   ],
   "source": [
    "# Создание базы данных realty_db\n",
    "client.execute(\"CREATE DATABASE realty_db\")"
   ]
  },
  {
   "cell_type": "code",
   "execution_count": 17,
   "metadata": {},
   "outputs": [
    {
     "data": {
      "text/plain": [
       "[]"
      ]
     },
     "execution_count": 17,
     "metadata": {},
     "output_type": "execute_result"
    }
   ],
   "source": [
    "# Создание таблицы, в которой будет храниться информация об инфраструктуре \n",
    "# Запустить необходимо на всех серверах в кластере (у нас их 2)\n",
    "client.execute('''\n",
    "    CREATE TABLE realty_db.infr\n",
    "    (\n",
    "      com_id Int64,\n",
    "      longitude Float32,\n",
    "      latitude Float32,\n",
    "      name String,\n",
    "      address String,\n",
    "      main_class String,\n",
    "      main_category String,\n",
    "      our_category String,\n",
    "      extra_categories Array(String)\n",
    "    ) \n",
    "    ENGINE = ReplacingMergeTree()\n",
    "    PARTITION BY main_category\n",
    "    ORDER BY com_id\n",
    "    SETTINGS index_granularity=256\n",
    "    ''')"
   ]
  },
  {
   "cell_type": "code",
   "execution_count": 25,
   "metadata": {},
   "outputs": [
    {
     "data": {
      "text/plain": [
       "[]"
      ]
     },
     "execution_count": 25,
     "metadata": {},
     "output_type": "execute_result"
    }
   ],
   "source": [
    "# Делаем таблицу инфраструктуры распределенной\n",
    "client.execute('''\n",
    "    CREATE TABLE realty_db.distr_infr as realty_db.infr\n",
    "    ENGINE = Distributed(bd_real_estate_cluster, realty_db, infr, xxHash64(com_id))\n",
    "    ''')"
   ]
  },
  {
   "cell_type": "code",
   "execution_count": 19,
   "metadata": {},
   "outputs": [
    {
     "data": {
      "text/plain": [
       "[]"
      ]
     },
     "execution_count": 19,
     "metadata": {},
     "output_type": "execute_result"
    }
   ],
   "source": [
    "# Создание таблицы, в которой будет храниться информация о жилых комплексах\n",
    "# Запустить необходимо на всех серверах в кластере (у нас их 2)\n",
    "client.execute('''\n",
    "    CREATE TABLE realty_db.complexes_info\n",
    "    (\n",
    "    complex_id Int64,\n",
    "    builder_id Int64,\n",
    "    longitude Float32,\n",
    "    latitude Float32,\n",
    "    complex_name String,\n",
    "    name_yandex String\n",
    "    ) \n",
    "    ENGINE = ReplacingMergeTree()\n",
    "    PARTITION BY builder_id\n",
    "    ORDER BY complex_id\n",
    "    SETTINGS index_granularity=16\n",
    "    ''')"
   ]
  },
  {
   "cell_type": "code",
   "execution_count": 26,
   "metadata": {},
   "outputs": [
    {
     "data": {
      "text/plain": [
       "[]"
      ]
     },
     "execution_count": 26,
     "metadata": {},
     "output_type": "execute_result"
    }
   ],
   "source": [
    "# Делаем таблицу с информацией о комплексах распределенной\n",
    "client.execute('''\n",
    "    CREATE TABLE realty_db.distr_complexes_info as realty_db.complexes_info\n",
    "    ENGINE = Distributed(bd_real_estate_cluster, realty_db, complexes_info, xxHash64(complex_id))\n",
    "    ''')"
   ]
  },
  {
   "cell_type": "code",
   "execution_count": 21,
   "metadata": {},
   "outputs": [
    {
     "data": {
      "text/plain": [
       "[]"
      ]
     },
     "execution_count": 21,
     "metadata": {},
     "output_type": "execute_result"
    }
   ],
   "source": [
    "# Создание таблицы, в которой будет храниться информация о предложениях по продаже квартир\n",
    "# Запустить необходимо на всех серверах в кластере (у нас их 2)\n",
    "client.execute('''\n",
    "    CREATE TABLE realty_db.offers\n",
    "    (\n",
    "    offer_id Int64,\n",
    "    complex_id Int64,\n",
    "    builder_id Int64,\n",
    "    rooms_cnt Int32,\n",
    "    square Float32,\n",
    "    floor Int32,\n",
    "    total_floors Int32,\n",
    "    total_price Int64,\n",
    "    price_for_meter Int64,\n",
    "    nearest_subway Nullable(String),\n",
    "    minutes_to_subway Int64,\n",
    "    is_walk Int32\n",
    "    ) \n",
    "    ENGINE = ReplacingMergeTree()\n",
    "    PARTITION BY complex_id\n",
    "    ORDER BY offer_id\n",
    "    SETTINGS index_granularity=256\n",
    "    ''')"
   ]
  },
  {
   "cell_type": "code",
   "execution_count": 27,
   "metadata": {},
   "outputs": [
    {
     "data": {
      "text/plain": [
       "[]"
      ]
     },
     "execution_count": 27,
     "metadata": {},
     "output_type": "execute_result"
    }
   ],
   "source": [
    "# Делаем таблицу с информацией о предложениях распределенной\n",
    "client.execute('''\n",
    "    CREATE TABLE realty_db.distr_offers as realty_db.offers\n",
    "    ENGINE = Distributed(bd_real_estate_cluster, realty_db, offers, xxHash64(offer_id))\n",
    "    ''')"
   ]
  },
  {
   "cell_type": "code",
   "execution_count": 28,
   "metadata": {},
   "outputs": [
    {
     "data": {
      "text/plain": [
       "[('complexes_info',),\n",
       " ('distr_complexes_info',),\n",
       " ('distr_infr',),\n",
       " ('distr_offers',),\n",
       " ('infr',),\n",
       " ('offers',)]"
      ]
     },
     "execution_count": 28,
     "metadata": {},
     "output_type": "execute_result"
    }
   ],
   "source": [
    "client.execute('SHOW tables from realty_db')"
   ]
  },
  {
   "cell_type": "markdown",
   "metadata": {},
   "source": [
    "## Загрузка данных в таблицы"
   ]
  },
  {
   "cell_type": "code",
   "execution_count": 34,
   "metadata": {},
   "outputs": [],
   "source": [
    "# Подготовка данных об объектах инфраструктуры, полученных в результате парсинга, к загрузке в ClickHouse\n",
    "infr_for_loading = pd.read_csv('./data_gathering/infrastructure_processed.csv')\n",
    "infr_for_loading = infr_for_loading.astype({\"com_id\": np.int64})\n",
    "\n",
    "infr_for_loading = infr_for_loading.fillna('')\n",
    "rows = infr_for_loading.values.tolist()\n",
    "\n",
    "for i in range(len(rows)):\n",
    "    for j in range(len(rows[i])):\n",
    "        if j == len(rows[i]) - 1:\n",
    "            if rows[i][j] == '':\n",
    "                rows[i][j] = []\n",
    "            else:\n",
    "                rows[i][j] = rows[i][j].split('[\\'')[1].split('\\']')[0].replace(\"'\", \"\").split(',')"
   ]
  },
  {
   "cell_type": "code",
   "execution_count": 35,
   "metadata": {},
   "outputs": [
    {
     "data": {
      "text/plain": [
       "21069"
      ]
     },
     "execution_count": 35,
     "metadata": {},
     "output_type": "execute_result"
    }
   ],
   "source": [
    "# Загрузка данных об инфраструктуре в таблицу realty_db.distr_infr\n",
    "client.execute(\"INSERT INTO realty_db.distr_infr VALUES\", rows)"
   ]
  },
  {
   "cell_type": "code",
   "execution_count": 41,
   "metadata": {},
   "outputs": [],
   "source": [
    "# Подготовка данных о предложениях по продаже квартир, полученных в результате парсинга, к загрузке в ClickHouse\n",
    "df_offers = pd.read_csv('./data_gathering/all_offers_processed.csv', sep=';', encoding='utf-8')\n",
    "df_offers = df_offers.astype({\"rooms_cnt\": int, \"price_for_meter\": int})\n",
    "\n",
    "offers_matrix = df_offers.values"
   ]
  },
  {
   "cell_type": "code",
   "execution_count": 42,
   "metadata": {},
   "outputs": [],
   "source": [
    "# Загрузка данных о предложениях в таблицу realty_db.distr_offers\n",
    "# Загрузка данных производится порциями, чтобы в одной порции было не более 100 разных значений ключа партиционирования\n",
    "# Размер одной порции - 3000 строк\n",
    "for i in range(math.ceil(len(offers_matrix) / 3000)):\n",
    "    start_ptr = i * 3000\n",
    "    if (i + 1) * 3000 < len(offers_matrix):\n",
    "        end_ptr = (i + 1) * 3000\n",
    "    else:\n",
    "        end_ptr = len(offers_matrix)\n",
    "        \n",
    "    offers_matrix_portion = offers_matrix[start_ptr:end_ptr]\n",
    "    \n",
    "    client.execute('INSERT INTO realty_db.distr_offers VALUES', \n",
    "               (list(row) for row in offers_matrix_portion), \n",
    "               types_check=True)"
   ]
  },
  {
   "cell_type": "code",
   "execution_count": 43,
   "metadata": {},
   "outputs": [],
   "source": [
    "# Подготовка данных о жилых комплексах, полученных в результате парсинга, к загрузке в ClickHouse\n",
    "df_complex_info = pd.read_csv('./data_gathering/complexes_info.csv', sep=',', encoding='utf-8')\n",
    "df_complex_info = df_complex_info[['complex_id', 'builder_id', 'longitude', 'latitude', 'complex_name', 'name_yandex']]\n",
    "\n",
    "complex_info_matrix = df_complex_info.values"
   ]
  },
  {
   "cell_type": "code",
   "execution_count": 44,
   "metadata": {},
   "outputs": [],
   "source": [
    "# Загрузка данных о новых жилых комплексах в таблицу realty_db.distr_complexes_info\n",
    "# Загрузка данных производится порциями, чтобы в одной порции было не более 100 разных значений ключа партиционирования\n",
    "# Размер одной порции - 200 строк\n",
    "for i in range(math.ceil(len(complex_info_matrix) / 200)):\n",
    "    start_ptr = i * 200\n",
    "    if (i + 1) * 200 < len(complex_info_matrix):\n",
    "        end_ptr = (i + 1) * 200\n",
    "    else:\n",
    "        end_ptr = len(complex_info_matrix)\n",
    "\n",
    "    complex_info_matrix_portion = complex_info_matrix[start_ptr:end_ptr]\n",
    "    \n",
    "    client.execute('INSERT INTO realty_db.distr_complexes_info VALUES', \n",
    "                   (list(row) for row in complex_info_matrix_portion), \n",
    "                   types_check=True)"
   ]
  },
  {
   "cell_type": "code",
   "execution_count": 16,
   "metadata": {},
   "outputs": [],
   "source": [
    "# Разрываем соединение с сервером\n",
    "client.disconnect()"
   ]
  }
 ],
 "metadata": {
  "kernelspec": {
   "display_name": "Python 3",
   "language": "python",
   "name": "python3"
  },
  "language_info": {
   "codemirror_mode": {
    "name": "ipython",
    "version": 3
   },
   "file_extension": ".py",
   "mimetype": "text/x-python",
   "name": "python",
   "nbconvert_exporter": "python",
   "pygments_lexer": "ipython3",
   "version": "3.7.4"
  }
 },
 "nbformat": 4,
 "nbformat_minor": 2
}
