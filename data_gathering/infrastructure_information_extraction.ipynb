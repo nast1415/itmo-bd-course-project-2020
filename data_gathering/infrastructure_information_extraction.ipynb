{
 "cells": [
  {
   "cell_type": "code",
   "execution_count": null,
   "metadata": {},
   "outputs": [],
   "source": [
    "import requests #Получение данных\n",
    "import json \n",
    "import csv #Запись данных в файл\n",
    "import pandas as pd\n",
    "import numpy as np\n",
    "import re\n",
    "import os #работа с файлами, папками\n",
    "import folium #для построения карты"
   ]
  },
  {
   "cell_type": "code",
   "execution_count": null,
   "metadata": {},
   "outputs": [],
   "source": [
    "# Загружаем ключ доступа к API Поиска по организациям\n",
    "f = open(\"api_key.txt\", \"r\")\n",
    "key = f.read()"
   ]
  },
  {
   "cell_type": "code",
   "execution_count": null,
   "metadata": {},
   "outputs": [],
   "source": [
    "# Загружаем информацию о новых жилых комплексах (для ее расширения значениями координат)\n",
    "df_all_complexes = pd.read_csv(\"complexes_data.csv\", sep=',', index_col='Unnamed: 0')\n",
    "df_all_complexes"
   ]
  },
  {
   "cell_type": "code",
   "execution_count": null,
   "metadata": {},
   "outputs": [],
   "source": [
    "# Функция coordinates_parser используется для того, чтобы найти координаты жк (поскольку на ЦИАН нет данной информации, а она потребуется при дальнейшем анализе)\n",
    "# Параметры функции:\n",
    "# df_houses - датафрейм, где название жк записано в столбце с именем complex_name\n",
    "# key - ключ доступа к API Поиска по организациям\n",
    "def coordinates_parser(df_houses,key):\n",
    "    names_yandex = []\n",
    "    lat = []\n",
    "    long = []\n",
    "    # делаем цикл по названиям комплексов\n",
    "    for i in list(df_houses.complex_name):\n",
    "        # Заменяем '&' в названиях жк,так как он используется в качестве разделителя параметров при запросе\n",
    "        name = i.replace('&','and')\n",
    "        try:\n",
    "            # У некоторых жк в скобках перевод названия на русский (берем его, так как яндекс преимущество использует русский в названиях)\n",
    "            name = name.split('(')[1].split(')')[0]\n",
    "        except:\n",
    "            None\n",
    "        # формируем ссылку для запроса, передаем название жк и ключ к API\n",
    "        url=\"https://search-maps.yandex.ru/v1/?text=жк %s&lang=ru_RU&ll=30.3077291, 59.936431&spn=0.7,0.70&results=500&apikey=%s\"\\\n",
    "        % (name, key)\n",
    "        # делаем запрос и сохраняем ответ в data\n",
    "        r = requests.get(url)\n",
    "        decoded_data=r.text.encode().decode('utf-8-sig')\n",
    "        data = json.loads(decoded_data)\n",
    "        # считаем количество объектов в ответе\n",
    "        feature_num = len(data['features'])\n",
    "        \n",
    "        # Запускаем цикл по объектам. Ищем тот объект, где название категории 'Жилой комплекс'\n",
    "        it = 0\n",
    "        # Метка ACTIVE используется для того, чтобы понять нашли мы в результате соответсвующий объект на карте или нет\n",
    "        mark = 'ACTIVE'\n",
    "\n",
    "        while it<feature_num and mark =='ACTIVE':     \n",
    "            if data['features'][it]['properties']['CompanyMetaData']['Categories'][0]['name'] == 'Жилой комплекс':\n",
    "                #Берем названия объекта на Яндекс картах и его координаты\n",
    "                names_yandex.append(data['features'][it]['properties']['name'])\n",
    "                lat.append(data['features'][it]['geometry']['coordinates'][1])\n",
    "                long.append(data['features'][it]['geometry']['coordinates'][0])\n",
    "                mark = 'DONE'\n",
    "            it=it+1\n",
    "        # Если после прохождения по всем объектам статус искомого объекта ACTIVE - пишем 'None', то есть объект не был найдет на яндекс картах\n",
    "        if mark=='ACTIVE':\n",
    "            names_yandex.append('None')\n",
    "            lat.append('None')\n",
    "            long.append('None')\n",
    "    # Добавляем к исходному датафрейму название с Яндекс карт и координаты жк\n",
    "    df_houses['name_yandex'] = names_yandex\n",
    "    df_houses['longitude'] = long\n",
    "    df_houses['latitude'] = lat\n",
    "    \n",
    "    return df_houses"
   ]
  },
  {
   "cell_type": "code",
   "execution_count": null,
   "metadata": {},
   "outputs": [],
   "source": [
    "# Расширяем информацию о новых жилых комплексах их географическими координатами\n",
    "houses_cian_with_coordinate = coordinates_parser(df_all_complexes, key)"
   ]
  },
  {
   "cell_type": "code",
   "execution_count": null,
   "metadata": {},
   "outputs": [],
   "source": [
    "# Сохраняем собранную информацию - она будет позже загружена в ClickHouse\n",
    "houses_cian_with_coordinate.to_csv('complexes_info.csv', sep=';', encoding='utf-8', index=False)"
   ]
  },
  {
   "cell_type": "code",
   "execution_count": null,
   "metadata": {},
   "outputs": [],
   "source": [
    "# Функция infrastructure_parser используется для сбора данных об инфраструктуре определенного типа вокруг всех ЖК\n",
    "\n",
    "# Параметры функции:\n",
    "# df_houses - датафрейм с координатами ЖК в виде longitude и latitude\n",
    "# word_for_searching - тип искомой инфраструктуры (н-р школа, супермаркет, парк)\n",
    "# key - ключ доступа к API Поиска по организациям\n",
    "def infrastructure_parser(df_houses, key, word_for_searching):\n",
    "    # Цикл по всем ЖК, используя их координаты\n",
    "    for g in list(zip(df_houses['longitude'],df_houses['latitude'])):\n",
    "        \n",
    "        # формируем ссылку для запроса, передаем тип искомого объекта, географические координаты центра зоны поиска (жк) и ключ доступа к API\n",
    "        url=\"https://search-maps.yandex.ru/v1/?text=%s&lang=ru_RU&ll=%f,%f&spn=0.03,0.020&results=500&apikey=%s\" \\\n",
    "        %(word_for_searching, g[0],g[1],key)\n",
    "        #делаем запрос и сохраняем ответ в data_js\n",
    "        r = requests.get(url)\n",
    "        decoded_data=r.text.encode().decode('utf-8-sig')\n",
    "        data_js = json.loads(decoded_data)\n",
    "        \n",
    "        # Запускаем цикл по всем объектам в ответе и берем данные, которые нам нужны\n",
    "        for i in range(len(data_js['features'])):\n",
    "            longitude = data_js['features'][i]['geometry']['coordinates'][0]\n",
    "            latitude = data_js['features'][i]['geometry']['coordinates'][1]\n",
    "            name = data_js['features'][i]['properties']['CompanyMetaData']['name']\n",
    "            address = data_js['features'][i]['properties']['CompanyMetaData']['address']\n",
    "            com_id = data_js['features'][i]['properties']['CompanyMetaData']['id']\n",
    "            # Объекту может присваиваться несколько категорий, поэтому мы выделяем главную категорию (стоит первой) и второстепенные\n",
    "            class_count = len(data_js['features'][i]['properties']['CompanyMetaData']['Categories'])\n",
    "            extra_categories = None\n",
    "            try:\n",
    "                # class - более общая категория с английским названием\n",
    "                main_class = data_js['features'][i]['properties']['CompanyMetaData']['Categories'][0]['class']\n",
    "                main_category = data_js['features'][i]['properties']['CompanyMetaData']['Categories'][0]['name']\n",
    "                \n",
    "                # Берем максимум 2 дополнительных категории, поэтому если суммарное число категорий больше 3, приравниваем его к 3\n",
    "                if class_count>3:\n",
    "                    class_count=3\n",
    "\n",
    "                for k in range(1,class_count):\n",
    "                    extra_categories = []\n",
    "                    try:\n",
    "                        category_name = data_js['features'][i]['properties']['CompanyMetaData']['Categories'][k]['name']\n",
    "                        extra_categories.append(category_name)\n",
    "                    except:\n",
    "                        None\n",
    "                # Записываем результат построчно в csv файл в папку infrastructure\n",
    "                with open(r\"infrastructure/loaded_data %s.csv\" %word_for_searching, \"a\", newline=\"\", encoding='utf-8') as file: #'a' - запись строки\n",
    "                    row = [com_id,longitude,latitude, name,address,main_class, main_category,extra_categories] #строка, которую будем записывать\n",
    "                    writer = csv.writer(file)\n",
    "                    writer.writerow(row)\n",
    "            except:\n",
    "                None"
   ]
  },
  {
   "cell_type": "code",
   "execution_count": null,
   "metadata": {},
   "outputs": [],
   "source": [
    "# Категории по которым может осуществляться поиск (названия соответсвуют категориям с Яндекс карт)\n",
    "top_categories = ['Фитнес-клуб', 'Бассейн','Спортплощадка, воркаут','Школа танцев','Гимназия', 'Лицей', 'Общеобразовательная школа',\n",
    " 'Парк культуры и отдыха', 'Продуктовый гипермаркет', 'Супермаркет', 'Остановка общественного транспорта', 'Железнодорожная станция',\n",
    " 'Железнодорожный вокзал', 'Станция метро', 'Аптека', 'Больница для взрослых', 'Ресторан', 'Кафе', 'Быстрое питание', 'Пиццерия',\n",
    " 'Булочная, пекарня', 'Кофейня', 'Кондитерская', 'Булочная', 'Товары для дома', 'Магазин парфюмерии и косметики',\n",
    " 'Магазин хозтоваров и бытовой химии']"
   ]
  },
  {
   "cell_type": "code",
   "execution_count": null,
   "metadata": {},
   "outputs": [],
   "source": [
    "# Словарь для пользовательских категорий (если необходимо обобщить категории, присваемые Яндексом)\n",
    "new_category_dict = {\n",
    " 'фитнес':['Фитнес-клуб', 'Бассейн','Спортплощадка, воркаут','Школа танцев'],\n",
    " 'школа': ['Гимназия', 'Лицей','Общеобразовательная школа'],\n",
    " 'парк': ['Парк культуры и отдыха'],\n",
    " 'супгип': ['Продуктовый гипермаркет','Супермаркет'],\n",
    " 'транспорт': ['Остановка общественного транспорта','Железнодорожная станция','Железнодорожный вокзал'],\n",
    " 'метро': ['Станция метро'],\n",
    " 'аптека':['Аптека'],\n",
    " 'больница':['Больница для взрослых'],\n",
    " 'кафе и ресторан': ['Ресторан', 'Кафе', 'Быстрое питание', 'Пиццерия'],\n",
    " 'пекарня':['Булочная, пекарня','Кофейня','Кондитерская','Булочная'],\n",
    " 'дрогери': ['Товары для дома','Магазин парфюмерии и косметики','Магазин хозтоваров и бытовой химии']}"
   ]
  },
  {
   "cell_type": "code",
   "execution_count": null,
   "metadata": {},
   "outputs": [],
   "source": [
    "# Данная функция запускает работу функции infrastructure_parser по категориям из списка category_list,\n",
    "# собирает все файлы из папки infrastructure, объединяет разультаты в общий df и добавляет пользовательские категории\n",
    "\n",
    "# Параметры функции:\n",
    "# df_houses - датафрейм с координатами ЖК в виде longitude и latitude\n",
    "# category_list - список типов искомой инфраструктуры (н-р школа, супермаркет, парк)\n",
    "# category_dict - словарь с пользовательскими категориями\n",
    "# key - ключ доступа к API Поиска по организациям\n",
    "def loading_and_combining_infr(df_houses, category_list,category_dict,key):\n",
    "    #Создаем датафрейм, куда будем сохранять всю инфраструктуру\n",
    "    infr_all = pd.DataFrame(columns=['com_id', 'longitude', 'latitude', 'name', 'address', 'main_class',\n",
    "       'main_category', 'extra_categories'])\n",
    "    # запускаем цикл парсинга по всем типам инфраструктуры\n",
    "    for i in category_list:\n",
    "        infrastructure_parser(df_houses, key, i)\n",
    "    # Собираем файлы, которые были загружены в папку infrastructure\n",
    "    files_infr = os.listdir('/infrastructure')\n",
    "    # Цикл по всем файлам\n",
    "    for j in files_infr:\n",
    "        # Сохраняем файл в df\n",
    "        infr = pd.read_csv('infrastructure/%s' %j,names=['com_id', 'longitude', 'latitude', 'name', 'address', 'main_class',\n",
    "       'main_category', 'extra_categories'])\n",
    "        # Добавляем к общей таблице\n",
    "        infr_all = infr_all.append(infr)\n",
    "    # Удаляем дубликаты, так как районы поиска пересекаются и объекты могут быть загружены несколько раз\n",
    "    infr_all = infr_all.drop_duplicates(subset='com_id')\n",
    "    \n",
    "    # Добавляем пользовательскую категорию из словаря\n",
    "    our_category_list = []\n",
    "    for i in list(infr_all.main_category):\n",
    "        for cat in category_dict.keys():\n",
    "            if i in category_dict[cat]:\n",
    "                our_category_list.append(cat)\n",
    "    infr_all['our_category'] = our_category_list\n",
    "    infr_all = infr_all[['com_id', 'longitude', 'latitude', 'name', 'address', 'main_class',\n",
    "       'main_category','our_category', 'extra_categories']]\n",
    "    return infr_all"
   ]
  },
  {
   "cell_type": "code",
   "execution_count": null,
   "metadata": {},
   "outputs": [],
   "source": [
    "# Запускаем функцию для загрузки данных инфраструктуры \n",
    "infrastructure_data_for_loading = loading_and_combining_infr(df_all_complexes, top_categories, new_category_dict, key)"
   ]
  },
  {
   "cell_type": "code",
   "execution_count": null,
   "metadata": {},
   "outputs": [],
   "source": [
    "# Сохраняем собранную информацию - она будет позже загружена в ClickHouse\n",
    "infrastructure_data_for_loading.to_csv('infrastructure_processed.csv', sep=';', encoding='utf-8', index=False)"
   ]
  }
 ],
 "metadata": {
  "kernelspec": {
   "display_name": "Python 3",
   "language": "python",
   "name": "python3"
  },
  "language_info": {
   "codemirror_mode": {
    "name": "ipython",
    "version": 3
   },
   "file_extension": ".py",
   "mimetype": "text/x-python",
   "name": "python",
   "nbconvert_exporter": "python",
   "pygments_lexer": "ipython3",
   "version": "3.7.4"
  }
 },
 "nbformat": 4,
 "nbformat_minor": 2
}
