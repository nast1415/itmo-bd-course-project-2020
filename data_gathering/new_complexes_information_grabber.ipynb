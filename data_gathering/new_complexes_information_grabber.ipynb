{
 "cells": [
  {
   "cell_type": "markdown",
   "metadata": {},
   "source": [
    "# Сбор информации по новостройкам в Санкт-Петербурге\n",
    "\n",
    "В этом ноутбуке содержится код сбора информации о новостройках в формате: \n",
    "* id жилого комплекса на сайте Циан\n",
    "* название жилого комплекса на сайте Циан\n",
    "* id застройщика на сайте Циан\n",
    "\n",
    "Результат сохраняется в файле `complexes_data.csv` и используется в дальнейшем в ноутбуке `coordinates_grabber` для расширения информации о комплексах и в ноутбуке `links_generator` для того, чтобы сгенерировать ссылки на страницы с предложениями по этим ЖК. "
   ]
  },
  {
   "cell_type": "code",
   "execution_count": 1,
   "metadata": {},
   "outputs": [],
   "source": [
    "import numpy as np\n",
    "import pandas as pd\n",
    "import requests\n",
    "import re\n",
    "from bs4 import BeautifulSoup\n",
    "from selenium import webdriver\n",
    "from selenium.webdriver.support.wait import WebDriverWait\n",
    "import time\n",
    "import json"
   ]
  },
  {
   "cell_type": "code",
   "execution_count": 2,
   "metadata": {},
   "outputs": [],
   "source": [
    "# Базовая ссылка, ведущая в раздел \"Новостройки Санкт-Петербурга\" на сайте Циан\n",
    "base_link_str = \"https://spb.cian.ru/newobjects/list?deal_type=sale&engine_version=2&offer_type=newobject&region=-2&p=\""
   ]
  },
  {
   "cell_type": "code",
   "execution_count": 21,
   "metadata": {},
   "outputs": [],
   "source": [
    "# Функция, позволяющая получить id и название жилого комплекса для всех представленных на странице ЖК\n",
    "# Информация достается из исходного кода страницы\n",
    "def get_complexes_info():\n",
    "    \n",
    "    all_complexes_ids = []\n",
    "    all_complexes_names = []\n",
    "    all_builders_ids = []\n",
    "    \n",
    "    # Итерация по всех страницам с информацией о новостройках\n",
    "    for page_num in range(1, 22):\n",
    "        link = base_link_str + str(page_num)\n",
    "        \n",
    "        # Получение текста исходного кода страницы\n",
    "        search_page = requests.get(link.format(0))\n",
    "        search_page = search_page.text\n",
    "        search_page = BeautifulSoup(search_page, 'lxml')\n",
    "\n",
    "        # Выделение части кода, содержащей список ЖК, представленных на странице\n",
    "        complexes_part = re.findall(r\"<script>!function\\(\\){(.*)}\\(\\)<\\/script>\", str(search_page))\n",
    "        \n",
    "        # Получение списка всех id жк, названий жк и id застройщика с помощью регулярных выражений\n",
    "        ids = re.findall(r\"\\\"id\\\":(.*?),\", str(complexes_part))\n",
    "        names = re.findall(r\"\\\"name\\\":\\\"(.*?)\\\",\", str(complexes_part))\n",
    "        builders = re.findall(r\"\\\"brand\\\":(.*?),\", str(complexes_part))\n",
    "        \n",
    "        # Добавление информации, полученной с текущей страницы, в общие списки\n",
    "        all_complexes_ids.extend(ids)\n",
    "        all_complexes_names.extend(names)\n",
    "        all_builders_ids.extend(builders)\n",
    "        \n",
    "        # Status message\n",
    "        if page_num % 5 == 0:\n",
    "            print(\"Information from page \", page_num, \"just loaded\")\n",
    "        \n",
    "    return all_complexes_ids, all_complexes_names, all_builders_ids"
   ]
  },
  {
   "cell_type": "code",
   "execution_count": 22,
   "metadata": {},
   "outputs": [
    {
     "name": "stdout",
     "output_type": "stream",
     "text": [
      "Information from page  5 just loaded\n",
      "Information from page  10 just loaded\n",
      "Information from page  15 just loaded\n",
      "Information from page  20 just loaded\n"
     ]
    }
   ],
   "source": [
    "ids_arr, names_arr, builders_arr = get_complexes_info()"
   ]
  },
  {
   "cell_type": "code",
   "execution_count": 24,
   "metadata": {},
   "outputs": [
    {
     "data": {
      "text/html": [
       "<div>\n",
       "<style scoped>\n",
       "    .dataframe tbody tr th:only-of-type {\n",
       "        vertical-align: middle;\n",
       "    }\n",
       "\n",
       "    .dataframe tbody tr th {\n",
       "        vertical-align: top;\n",
       "    }\n",
       "\n",
       "    .dataframe thead th {\n",
       "        text-align: right;\n",
       "    }\n",
       "</style>\n",
       "<table border=\"1\" class=\"dataframe\">\n",
       "  <thead>\n",
       "    <tr style=\"text-align: right;\">\n",
       "      <th></th>\n",
       "      <th>complex_id</th>\n",
       "      <th>complex_name</th>\n",
       "      <th>builder_id</th>\n",
       "    </tr>\n",
       "  </thead>\n",
       "  <tbody>\n",
       "    <tr>\n",
       "      <td>0</td>\n",
       "      <td>6953</td>\n",
       "      <td>Граффити</td>\n",
       "      <td>2747</td>\n",
       "    </tr>\n",
       "    <tr>\n",
       "      <td>1</td>\n",
       "      <td>51431</td>\n",
       "      <td>Институтский, 16</td>\n",
       "      <td>8075</td>\n",
       "    </tr>\n",
       "    <tr>\n",
       "      <td>2</td>\n",
       "      <td>53790</td>\n",
       "      <td>UP-квартал Пушкинский</td>\n",
       "      <td>9085</td>\n",
       "    </tr>\n",
       "    <tr>\n",
       "      <td>3</td>\n",
       "      <td>33807</td>\n",
       "      <td>Legenda Героев</td>\n",
       "      <td>8075</td>\n",
       "    </tr>\n",
       "    <tr>\n",
       "      <td>4</td>\n",
       "      <td>7202</td>\n",
       "      <td>Четыре горизонта</td>\n",
       "      <td>8077</td>\n",
       "    </tr>\n",
       "    <tr>\n",
       "      <td>...</td>\n",
       "      <td>...</td>\n",
       "      <td>...</td>\n",
       "      <td>...</td>\n",
       "    </tr>\n",
       "    <tr>\n",
       "      <td>520</td>\n",
       "      <td>6882</td>\n",
       "      <td>Пифагор</td>\n",
       "      <td>9121</td>\n",
       "    </tr>\n",
       "    <tr>\n",
       "      <td>521</td>\n",
       "      <td>6954</td>\n",
       "      <td>Ямбург</td>\n",
       "      <td>8084</td>\n",
       "    </tr>\n",
       "    <tr>\n",
       "      <td>522</td>\n",
       "      <td>14847</td>\n",
       "      <td>Мендельсон</td>\n",
       "      <td>1607</td>\n",
       "    </tr>\n",
       "    <tr>\n",
       "      <td>523</td>\n",
       "      <td>6926</td>\n",
       "      <td>7 столиц, квартал Лондон</td>\n",
       "      <td>8079</td>\n",
       "    </tr>\n",
       "    <tr>\n",
       "      <td>524</td>\n",
       "      <td>5190</td>\n",
       "      <td>Тридевяткино царство</td>\n",
       "      <td>1246</td>\n",
       "    </tr>\n",
       "  </tbody>\n",
       "</table>\n",
       "<p>525 rows × 3 columns</p>\n",
       "</div>"
      ],
      "text/plain": [
       "    complex_id              complex_name builder_id\n",
       "0         6953                  Граффити       2747\n",
       "1        51431          Институтский, 16       8075\n",
       "2        53790     UP-квартал Пушкинский       9085\n",
       "3        33807            Legenda Героев       8075\n",
       "4         7202          Четыре горизонта       8077\n",
       "..         ...                       ...        ...\n",
       "520       6882                   Пифагор       9121\n",
       "521       6954                    Ямбург       8084\n",
       "522      14847                Мендельсон       1607\n",
       "523       6926  7 столиц, квартал Лондон       8079\n",
       "524       5190      Тридевяткино царство       1246\n",
       "\n",
       "[525 rows x 3 columns]"
      ]
     },
     "execution_count": 24,
     "metadata": {},
     "output_type": "execute_result"
    }
   ],
   "source": [
    "# Создаем DataFrame на основе полученных данных\n",
    "df_dict = {'complex_id': ids_arr, 'complex_name': names_arr, 'builder_id': builders_arr}\n",
    "df = pd.DataFrame.from_dict(df_dict)\n",
    "df"
   ]
  },
  {
   "cell_type": "code",
   "execution_count": 25,
   "metadata": {},
   "outputs": [],
   "source": [
    "# Сохраняем результаты для дальнейшего использования\n",
    "df.to_csv('complexes_data.csv', encoding='utf-8')"
   ]
  }
 ],
 "metadata": {
  "kernelspec": {
   "display_name": "Python 3",
   "language": "python",
   "name": "python3"
  },
  "language_info": {
   "codemirror_mode": {
    "name": "ipython",
    "version": 3
   },
   "file_extension": ".py",
   "mimetype": "text/x-python",
   "name": "python",
   "nbconvert_exporter": "python",
   "pygments_lexer": "ipython3",
   "version": "3.7.4"
  }
 },
 "nbformat": 4,
 "nbformat_minor": 2
}
