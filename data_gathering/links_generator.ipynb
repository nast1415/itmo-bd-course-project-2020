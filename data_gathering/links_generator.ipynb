{
 "cells": [
  {
   "cell_type": "markdown",
   "metadata": {},
   "source": [
    "# Генератор ссылок на предложения\n",
    "\n",
    "В этом файле содержится код сбора ссылок на предложения о продаже квартир в новых жилых комплексах, информация о которых была собрана в ноутбуке `new_complexes_information_grabber`. \n",
    "\n",
    "Для каждого жилого комплекса находится количество предложений от застройщика и количество предложений от агентов и составляются наборы ссылок на страницы с этими объявлениями. Эти наборы затем сохраняются в файлах `dev_links.txt` и `agent_links.txt` соответственно и используются в ноутбуке `offers_grabber` для получения детальной информации о самих предложениях."
   ]
  },
  {
   "cell_type": "code",
   "execution_count": 11,
   "metadata": {},
   "outputs": [],
   "source": [
    "import numpy as np\n",
    "import pandas as pd\n",
    "import math\n",
    "import requests\n",
    "import re\n",
    "from bs4 import BeautifulSoup"
   ]
  },
  {
   "cell_type": "code",
   "execution_count": 2,
   "metadata": {},
   "outputs": [],
   "source": [
    "# Основные структурные части ссылки на страницу с предложениями по определенному ЖК\n",
    "base_link_strs = [\"https://spb.cian.ru/cat.php?deal_type=sale&engine_version=2&from_developer=\", \"&newobject=\" , \n",
    "                  \"&offer_type=flat&p=\"]"
   ]
  },
  {
   "cell_type": "code",
   "execution_count": 146,
   "metadata": {},
   "outputs": [
    {
     "data": {
      "text/html": [
       "<div>\n",
       "<style scoped>\n",
       "    .dataframe tbody tr th:only-of-type {\n",
       "        vertical-align: middle;\n",
       "    }\n",
       "\n",
       "    .dataframe tbody tr th {\n",
       "        vertical-align: top;\n",
       "    }\n",
       "\n",
       "    .dataframe thead th {\n",
       "        text-align: right;\n",
       "    }\n",
       "</style>\n",
       "<table border=\"1\" class=\"dataframe\">\n",
       "  <thead>\n",
       "    <tr style=\"text-align: right;\">\n",
       "      <th></th>\n",
       "      <th>complex_id</th>\n",
       "      <th>complex_name</th>\n",
       "    </tr>\n",
       "  </thead>\n",
       "  <tbody>\n",
       "    <tr>\n",
       "      <td>0</td>\n",
       "      <td>6953</td>\n",
       "      <td>Граффити</td>\n",
       "    </tr>\n",
       "    <tr>\n",
       "      <td>1</td>\n",
       "      <td>7458</td>\n",
       "      <td>UP-квартал Светлановский</td>\n",
       "    </tr>\n",
       "    <tr>\n",
       "      <td>2</td>\n",
       "      <td>44981</td>\n",
       "      <td>YE'S Residence (Йес Резиденс)</td>\n",
       "    </tr>\n",
       "    <tr>\n",
       "      <td>3</td>\n",
       "      <td>51431</td>\n",
       "      <td>Институтский, 16</td>\n",
       "    </tr>\n",
       "    <tr>\n",
       "      <td>4</td>\n",
       "      <td>53790</td>\n",
       "      <td>UP-квартал Пушкинский</td>\n",
       "    </tr>\n",
       "    <tr>\n",
       "      <td>...</td>\n",
       "      <td>...</td>\n",
       "      <td>...</td>\n",
       "    </tr>\n",
       "    <tr>\n",
       "      <td>520</td>\n",
       "      <td>6882</td>\n",
       "      <td>Пифагор</td>\n",
       "    </tr>\n",
       "    <tr>\n",
       "      <td>521</td>\n",
       "      <td>8551</td>\n",
       "      <td>Шлиссельбург, Пролетарская ул., 38</td>\n",
       "    </tr>\n",
       "    <tr>\n",
       "      <td>522</td>\n",
       "      <td>45592</td>\n",
       "      <td>Крылья</td>\n",
       "    </tr>\n",
       "    <tr>\n",
       "      <td>523</td>\n",
       "      <td>6335</td>\n",
       "      <td>ЗимаЛето</td>\n",
       "    </tr>\n",
       "    <tr>\n",
       "      <td>524</td>\n",
       "      <td>8819</td>\n",
       "      <td>Премьера</td>\n",
       "    </tr>\n",
       "  </tbody>\n",
       "</table>\n",
       "<p>525 rows × 2 columns</p>\n",
       "</div>"
      ],
      "text/plain": [
       "     complex_id                        complex_name\n",
       "0          6953                            Граффити\n",
       "1          7458            UP-квартал Светлановский\n",
       "2         44981       YE'S Residence (Йес Резиденс)\n",
       "3         51431                    Институтский, 16\n",
       "4         53790               UP-квартал Пушкинский\n",
       "..          ...                                 ...\n",
       "520        6882                             Пифагор\n",
       "521        8551  Шлиссельбург, Пролетарская ул., 38\n",
       "522       45592                              Крылья\n",
       "523        6335                            ЗимаЛето\n",
       "524        8819                            Премьера\n",
       "\n",
       "[525 rows x 2 columns]"
      ]
     },
     "execution_count": 146,
     "metadata": {},
     "output_type": "execute_result"
    }
   ],
   "source": [
    "# Загружаем информацию о новых жилых комплексах\n",
    "df_all_complexes = pd.read_csv(\"complexes_data.csv\", sep=',', index_col='Unnamed: 0')\n",
    "df_all_complexes"
   ]
  },
  {
   "cell_type": "code",
   "execution_count": 131,
   "metadata": {},
   "outputs": [],
   "source": [
    "# Достаем списки с id и названиями\n",
    "ids_array = df_new_complexes['complex_id'].values\n",
    "names_array = df_new_complexes['complex_name'].values"
   ]
  },
  {
   "cell_type": "markdown",
   "metadata": {},
   "source": [
    "### Получение информации о количестве страниц предложений"
   ]
  },
  {
   "cell_type": "code",
   "execution_count": 137,
   "metadata": {},
   "outputs": [],
   "source": [
    "# Функция для сбора информации об общем числе предложений\n",
    "# complexes_ids - массив с id жилых комплексов, предложения о квартирах в которых нужно собрать\n",
    "# offer_type - 0, если агентские предложения и 1, если напрямую от застройщика \n",
    "def get_info_about_number_of_offers(complexes_ids, offer_type):\n",
    "    pages_number = []\n",
    "    for complex_id in complexes_ids:\n",
    "        offers_link = \"https://spb.cian.ru/cat.php?deal_type=sale&engine_version=2&from_developer=\" + str(offer_type) + \"&newobject=\" + str(complex_id) + \"&offer_type=flat\"\n",
    "        \n",
    "        # Получаем нужную страницу\n",
    "        search_page = requests.get(offers_link.format(0))\n",
    "        search_page = search_page.text\n",
    "        search_page = BeautifulSoup(search_page, 'lxml')\n",
    "\n",
    "        # Внутри нужной страницы достаем информацию об общем количестве предложений\n",
    "        offers_part = search_page.html.head.findAll('title')\n",
    "        offers_str = re.findall(r\"- (.*) объявл\", str(offers_part))\n",
    "        print(offers_str)\n",
    "        if len(offers_str) == 0:\n",
    "            pages_num = 0\n",
    "        else:\n",
    "            if offers_str[0] == 'база':\n",
    "                break\n",
    "            else:\n",
    "                pages_num = int(offers_str[0].replace(' ', ''))\n",
    "        pages_number.append(pages_num)\n",
    "    return pages_number"
   ]
  },
  {
   "cell_type": "code",
   "execution_count": 138,
   "metadata": {},
   "outputs": [],
   "source": [
    "# Получаем информацию о количестве отдельно предложений от застройщика и предложений от агентов\n",
    "complexes_agent_offers_pages = get_info_about_number_of_offers(ids_array, 0)\n",
    "complexes_dev_offers_pages = get_info_about_number_of_offers(ids_array, 1)"
   ]
  },
  {
   "cell_type": "code",
   "execution_count": 2,
   "metadata": {},
   "outputs": [],
   "source": [
    "# Восстанавливаем информацию о количестве страниц предложений из общего числа предложений\n",
    "offers_per_page = 34 # Циан публикует по 34 объявления на странице\n",
    "agent_offers_pages_lst = [math.ceil(x / offers_per_page) for x in complexes_agent_offers_pages]\n",
    "dev_offers_pages_lst = [math.ceil(x / offers_per_page) for x in complexes_dev_offers_pages]"
   ]
  },
  {
   "cell_type": "markdown",
   "metadata": {},
   "source": [
    "### Сбор ссылок на страницы с предложениями"
   ]
  },
  {
   "cell_type": "code",
   "execution_count": 120,
   "metadata": {},
   "outputs": [],
   "source": [
    "# Функция, генерирующая ссылки на страницы с предложениями\n",
    "# complexes_ids - массив с id жилых комплексов, предложения о квартирах в которых нужно собрать\n",
    "# pages_num_arr - массив с количеством страниц предложений для каждого ЖК \n",
    "# offer_type - 0, если агентские предложения и 1, если напрямую от застройщика \n",
    "def links_generator(complexes_ids, pages_num_arr, offer_type):\n",
    "    links_pool = [] \n",
    "    \n",
    "    for i in range(481, 495):\n",
    "        complex_id = complexes_ids[i]\n",
    "        offers_pages = pages_num_arr[i - 481]\n",
    "        \n",
    "        for page_id in range(offers_pages):\n",
    "            links_pool.append(base_link_strs[0] + str(offer_type) + base_link_strs[1] + str(complex_id) + \n",
    "                                       base_link_strs[2] + str(page_id + 1))\n",
    "    return links_pool"
   ]
  },
  {
   "cell_type": "code",
   "execution_count": 121,
   "metadata": {},
   "outputs": [],
   "source": [
    "from_agent_links_pool = links_generator(ids_array, agent_offers_pages_lst, 0)\n",
    "from_dev_links_pool = links_generator(ids_array, dev_offers_pages_lst, 1)"
   ]
  },
  {
   "cell_type": "code",
   "execution_count": 63,
   "metadata": {},
   "outputs": [],
   "source": [
    "# Сохраняем информацию о ссылках на агентские предложения \n",
    "f_ag_links = open('agents_links.txt', 'w')\n",
    "\n",
    "for link in from_agent_links_pool:\n",
    "    f_ag_links.write(link + '\\n')\n",
    "f_ag_links.close()"
   ]
  },
  {
   "cell_type": "code",
   "execution_count": null,
   "metadata": {},
   "outputs": [],
   "source": [
    "# Сохраняем информацию о ссылках на предложения от застройщика\n",
    "f_dev_links = open('devs_links.txt', 'w')\n",
    "\n",
    "for link in from_dev_links_pool:\n",
    "    f_dev_links.write(link + '\\n')\n",
    "f_dev_links.close()"
   ]
  }
 ],
 "metadata": {
  "kernelspec": {
   "display_name": "Python 3",
   "language": "python",
   "name": "python3"
  },
  "language_info": {
   "codemirror_mode": {
    "name": "ipython",
    "version": 3
   },
   "file_extension": ".py",
   "mimetype": "text/x-python",
   "name": "python",
   "nbconvert_exporter": "python",
   "pygments_lexer": "ipython3",
   "version": "3.7.4"
  }
 },
 "nbformat": 4,
 "nbformat_minor": 2
}
